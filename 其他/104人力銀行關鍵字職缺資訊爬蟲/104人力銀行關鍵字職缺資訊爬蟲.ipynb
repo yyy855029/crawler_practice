{
 "cells": [
  {
   "cell_type": "markdown",
   "metadata": {},
   "source": [
    "# 載入所需套件"
   ]
  },
  {
   "cell_type": "code",
   "execution_count": 1,
   "metadata": {},
   "outputs": [],
   "source": [
    "import requests\n",
    "from bs4 import BeautifulSoup\n",
    "import pandas as pd\n",
    "import numpy as np\n",
    "from tqdm import tqdm"
   ]
  },
  {
   "cell_type": "markdown",
   "metadata": {},
   "source": [
    "# 定義爬取104人力銀行職缺資訊函數"
   ]
  },
  {
   "cell_type": "code",
   "execution_count": 2,
   "metadata": {},
   "outputs": [],
   "source": [
    "def job_crawler(url):\n",
    "    response=requests.get(url)\n",
    "    soup=BeautifulSoup(response.text,'html.parser')\n",
    "\n",
    "    articles=soup.select('article.b-block--top-bord.job-list-item.b-clearfix.js-job-item')\n",
    "    titles=[e.select('a')[0].text for e in articles]\n",
    "    companys=[e.select('a')[1].text.replace('\\n','').replace(' ','') for e in articles]\n",
    "    links=['https:{}'.format(e.select('a')[1]['href']) for e in articles]\n",
    "    statuses=[e.select('a')[2].text.split('應徵')[0] for e in articles]\n",
    "    dates=[e.select('span')[0].text.replace('\\n','').replace(' ','') for e in articles]\n",
    "    salaries=[e.select('span')[1].text for e in articles]\n",
    "    locations=[e.select('ul.b-list-inline.b-clearfix.job-list-intro.b-content>li')[0].text for e in articles]\n",
    "    requirements=[e.select('ul.b-list-inline.b-clearfix.job-list-intro.b-content>li')[1].text for e in articles]\n",
    "    degrees=[e.select('ul.b-list-inline.b-clearfix.job-list-intro.b-content>li')[2].text for e in articles]\n",
    "    texts=[e.select('p')[0].text.replace('\\r','').replace('\\n','').replace('\\t','') for e in articles]\n",
    "    \n",
    "    dates,industrys=[],[]\n",
    "    for e in articles:\n",
    "        if e.select('span')[0].text.replace('\\n','').replace(' ','')=='':\n",
    "            dates.append(np.nan)\n",
    "        else:\n",
    "            dates.append(e.select('span')[0].text.replace('\\n','').replace(' ',''))\n",
    "    \n",
    "    for e in articles:\n",
    "        if len(e.select_one('ul.b-list-inline.b-clearfix').select('li'))==3:\n",
    "            industrys.append(e.select_one('ul.b-list-inline.b-clearfix').select('li')[-1].text)\n",
    "        else:\n",
    "            industrys.append(np.nan)\n",
    "    \n",
    "    df=pd.DataFrame({\n",
    "        '日期':dates,\n",
    "        '應徵':statuses,\n",
    "        '工作':titles,\n",
    "        '公司':companys,\n",
    "        '產業':industrys,\n",
    "        '薪水':salaries,\n",
    "        '地區':locations,\n",
    "        '要求':requirements,\n",
    "        '學歷':degrees,\n",
    "        '介紹':texts,\n",
    "        '網址':links\n",
    "    })\n",
    "    \n",
    "    return df"
   ]
  },
  {
   "cell_type": "markdown",
   "metadata": {},
   "source": [
    "# 定義爬取多頁104人力銀行關鍵字職缺資訊函數"
   ]
  },
  {
   "cell_type": "code",
   "execution_count": 3,
   "metadata": {},
   "outputs": [],
   "source": [
    "def page_function(keyword,page):\n",
    "    dfs=[]\n",
    "    \n",
    "    for i in tqdm(range(page)):\n",
    "        url='https://www.104.com.tw/jobs/search/?ro=0&kwop=7&keyword={}&order=1&asc=0&page={}&mode=s'.format(keyword,i+1)\n",
    "        d=job_crawler(url)\n",
    "        dfs.append(d)\n",
    "    \n",
    "    df=pd.concat(dfs,ignore_index=True)\n",
    "    \n",
    "    return df"
   ]
  },
  {
   "cell_type": "markdown",
   "metadata": {},
   "source": [
    "# 指定關鍵字和總頁數表格呈現"
   ]
  },
  {
   "cell_type": "code",
   "execution_count": 4,
   "metadata": {},
   "outputs": [
    {
     "name": "stderr",
     "output_type": "stream",
     "text": [
      "100%|████████████████████████████████████████████████████████████████████████████████████| 3/3 [00:03<00:00,  1.19s/it]\n"
     ]
    },
    {
     "data": {
      "text/html": [
       "<div>\n",
       "<style scoped>\n",
       "    .dataframe tbody tr th:only-of-type {\n",
       "        vertical-align: middle;\n",
       "    }\n",
       "\n",
       "    .dataframe tbody tr th {\n",
       "        vertical-align: top;\n",
       "    }\n",
       "\n",
       "    .dataframe thead th {\n",
       "        text-align: right;\n",
       "    }\n",
       "</style>\n",
       "<table border=\"1\" class=\"dataframe\">\n",
       "  <thead>\n",
       "    <tr style=\"text-align: right;\">\n",
       "      <th></th>\n",
       "      <th>日期</th>\n",
       "      <th>應徵</th>\n",
       "      <th>工作</th>\n",
       "      <th>公司</th>\n",
       "      <th>產業</th>\n",
       "      <th>薪水</th>\n",
       "      <th>地區</th>\n",
       "      <th>要求</th>\n",
       "      <th>學歷</th>\n",
       "      <th>介紹</th>\n",
       "      <th>網址</th>\n",
       "    </tr>\n",
       "  </thead>\n",
       "  <tbody>\n",
       "    <tr>\n",
       "      <th>0</th>\n",
       "      <td>2/08</td>\n",
       "      <td>11~30人</td>\n",
       "      <td>【MacroMicro/財經Ｍ平方】金融研究助理 (實習生)</td>\n",
       "      <td>恩平方財經股份有限公司</td>\n",
       "      <td>其他投資理財相關業</td>\n",
       "      <td>時薪160~300元</td>\n",
       "      <td>台北市信義區</td>\n",
       "      <td>經歷不拘</td>\n",
       "      <td>專科</td>\n",
       "      <td>主要為協助研究員，包含：- 管理及建立後端各式經濟數據- 搜集市場行情、金融資訊- 製作課程...</td>\n",
       "      <td>https://www.104.com.tw/company/1a2x6bkrzz?jobs...</td>\n",
       "    </tr>\n",
       "    <tr>\n",
       "      <th>1</th>\n",
       "      <td>2/14</td>\n",
       "      <td>30人以上</td>\n",
       "      <td>【工讀生】金融數據分析實習 (稽核室)</td>\n",
       "      <td>國泰世華商業銀行股份有限公司_人力資源部</td>\n",
       "      <td>銀行業</td>\n",
       "      <td>月薪23,800~26,000元</td>\n",
       "      <td>台北市信義區</td>\n",
       "      <td>經歷不拘</td>\n",
       "      <td>大學</td>\n",
       "      <td>工作說明：(1)金融數據收集、整理、分析(2)資料視覺化與報表設計其他說明： (1)熟悉EX...</td>\n",
       "      <td>https://www.104.com.tw/company/1xzkino?jobsour...</td>\n",
       "    </tr>\n",
       "    <tr>\n",
       "      <th>2</th>\n",
       "      <td>2/10</td>\n",
       "      <td>11~30人</td>\n",
       "      <td>Diploma Legal Practice金融科技實習生（法務）</td>\n",
       "      <td>普匯金融科技股份有限公司</td>\n",
       "      <td>電腦軟體服務業</td>\n",
       "      <td>時薪158~158,158元</td>\n",
       "      <td>台北市中山區</td>\n",
       "      <td>經歷不拘</td>\n",
       "      <td>大學</td>\n",
       "      <td>1.熟悉金融相關法律2.有專案經驗3.能草擬、修訂基本合約4.專案研究分析5.文章撰寫6.主管交辦</td>\n",
       "      <td>https://www.104.com.tw/company/1a2x6bkhzg?jobs...</td>\n",
       "    </tr>\n",
       "    <tr>\n",
       "      <th>3</th>\n",
       "      <td>2/06</td>\n",
       "      <td>0~5人</td>\n",
       "      <td>【實習】財務部 - 學生實習</td>\n",
       "      <td>富強鑫精密工業股份有限公司</td>\n",
       "      <td>精密儀器相關製造業</td>\n",
       "      <td>時薪158元</td>\n",
       "      <td>台南市關廟區</td>\n",
       "      <td>經歷不拘</td>\n",
       "      <td>專科</td>\n",
       "      <td>1.資料統整2.財務事務協助3.會計事務協助4.主管指派工作可全年度實習、一周上班天數3-5...</td>\n",
       "      <td>https://www.104.com.tw/company/13kawv1c?jobsou...</td>\n",
       "    </tr>\n",
       "    <tr>\n",
       "      <th>4</th>\n",
       "      <td>2/13</td>\n",
       "      <td>11~30人</td>\n",
       "      <td>金融行銷業務特助-(實習生)</td>\n",
       "      <td>永誠國際證券投資顧問股份有限公司</td>\n",
       "      <td>證券及期貨業</td>\n",
       "      <td>年薪300,000~3,000,000元</td>\n",
       "      <td>台北市中山區</td>\n",
       "      <td>經歷不拘</td>\n",
       "      <td>大學</td>\n",
       "      <td>只要您對投資理財有興趣有膽量，喜歡與人溝通有企圖心，超級想賺錢有夢想，想成為超級業務我們就全...</td>\n",
       "      <td>https://www.104.com.tw/company/1a2x6biulk?jobs...</td>\n",
       "    </tr>\n",
       "  </tbody>\n",
       "</table>\n",
       "</div>"
      ],
      "text/plain": [
       "     日期      應徵                                 工作                    公司  \\\n",
       "0  2/08  11~30人     【MacroMicro/財經Ｍ平方】金融研究助理 (實習生)           恩平方財經股份有限公司   \n",
       "1  2/14   30人以上                【工讀生】金融數據分析實習 (稽核室)  國泰世華商業銀行股份有限公司_人力資源部   \n",
       "2  2/10  11~30人  Diploma Legal Practice金融科技實習生（法務）          普匯金融科技股份有限公司   \n",
       "3  2/06    0~5人                     【實習】財務部 - 學生實習         富強鑫精密工業股份有限公司   \n",
       "4  2/13  11~30人                     金融行銷業務特助-(實習生)      永誠國際證券投資顧問股份有限公司   \n",
       "\n",
       "          產業                    薪水      地區    要求  學歷  \\\n",
       "0  其他投資理財相關業            時薪160~300元  台北市信義區  經歷不拘  專科   \n",
       "1        銀行業      月薪23,800~26,000元  台北市信義區  經歷不拘  大學   \n",
       "2    電腦軟體服務業        時薪158~158,158元  台北市中山區  經歷不拘  大學   \n",
       "3  精密儀器相關製造業                時薪158元  台南市關廟區  經歷不拘  專科   \n",
       "4     證券及期貨業  年薪300,000~3,000,000元  台北市中山區  經歷不拘  大學   \n",
       "\n",
       "                                                  介紹  \\\n",
       "0  主要為協助研究員，包含：- 管理及建立後端各式經濟數據- 搜集市場行情、金融資訊- 製作課程...   \n",
       "1  工作說明：(1)金融數據收集、整理、分析(2)資料視覺化與報表設計其他說明： (1)熟悉EX...   \n",
       "2  1.熟悉金融相關法律2.有專案經驗3.能草擬、修訂基本合約4.專案研究分析5.文章撰寫6.主管交辦   \n",
       "3  1.資料統整2.財務事務協助3.會計事務協助4.主管指派工作可全年度實習、一周上班天數3-5...   \n",
       "4  只要您對投資理財有興趣有膽量，喜歡與人溝通有企圖心，超級想賺錢有夢想，想成為超級業務我們就全...   \n",
       "\n",
       "                                                  網址  \n",
       "0  https://www.104.com.tw/company/1a2x6bkrzz?jobs...  \n",
       "1  https://www.104.com.tw/company/1xzkino?jobsour...  \n",
       "2  https://www.104.com.tw/company/1a2x6bkhzg?jobs...  \n",
       "3  https://www.104.com.tw/company/13kawv1c?jobsou...  \n",
       "4  https://www.104.com.tw/company/1a2x6biulk?jobs...  "
      ]
     },
     "execution_count": 4,
     "metadata": {},
     "output_type": "execute_result"
    }
   ],
   "source": [
    "df=page_function('金融實習',3)\n",
    "df.head()"
   ]
  },
  {
   "cell_type": "code",
   "execution_count": null,
   "metadata": {},
   "outputs": [],
   "source": []
  }
 ],
 "metadata": {
  "kernelspec": {
   "display_name": "Python 3",
   "language": "python",
   "name": "python3"
  },
  "language_info": {
   "codemirror_mode": {
    "name": "ipython",
    "version": 3
   },
   "file_extension": ".py",
   "mimetype": "text/x-python",
   "name": "python",
   "nbconvert_exporter": "python",
   "pygments_lexer": "ipython3",
   "version": "3.7.3"
  }
 },
 "nbformat": 4,
 "nbformat_minor": 2
}
