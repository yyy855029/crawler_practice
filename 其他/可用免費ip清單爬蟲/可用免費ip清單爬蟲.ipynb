{
 "cells": [
  {
   "cell_type": "markdown",
   "metadata": {},
   "source": [
    "# 載入所需套件"
   ]
  },
  {
   "cell_type": "code",
   "execution_count": 1,
   "metadata": {},
   "outputs": [],
   "source": [
    "import requests\n",
    "import pandas as pd\n",
    "import time\n",
    "from tqdm import tqdm\n",
    "import json"
   ]
  },
  {
   "cell_type": "markdown",
   "metadata": {},
   "source": [
    "# 定義抓取可能免費IP清單函數"
   ]
  },
  {
   "cell_type": "code",
   "execution_count": 2,
   "metadata": {},
   "outputs": [],
   "source": [
    "def possible_ip_crawler():\n",
    "    url_list=['https://www.us-proxy.org/','https://free-proxy-list.net/']\n",
    "    possible_ip_list=[]\n",
    "    \n",
    "    for url in tqdm(url_list):\n",
    "        response=requests.get(url)\n",
    "        df=pd.read_html(response.text)[0]\n",
    "        df.drop((len(df)-1),axis=0,inplace=True)\n",
    "        df['Port']=df['Port'].apply(lambda x:str(int(x)))\n",
    "        df['IP']=df['IP Address']+':'+df['Port']\n",
    "        ip_list=df['IP'].values\n",
    "        possible_ip_list.extend(ip_list)\n",
    "    \n",
    "    possible_ip_list=list(set(possible_ip_list))\n",
    "    \n",
    "    return possible_ip_list"
   ]
  },
  {
   "cell_type": "markdown",
   "metadata": {},
   "source": [
    "# 定義檢驗可能免費IP清單函數"
   ]
  },
  {
   "cell_type": "code",
   "execution_count": 3,
   "metadata": {},
   "outputs": [],
   "source": [
    "def test_possible_ip(possible_ip_list):\n",
    "    test_url='https://api.ipify.org?format=json'\n",
    "    response=requests.get(test_url)\n",
    "    raw_ip=response.json()['ip']\n",
    "    \n",
    "    ip_dict_list=[]\n",
    "    for e in tqdm(possible_ip_list):\n",
    "        proxies={'http':e,'https':e}\n",
    "        time.sleep(0.5)\n",
    "        try:\n",
    "            response=requests.get(test_url,proxies=proxies,timeout=5)\n",
    "            if response.json()['ip']!=raw_ip:\n",
    "                ip_dict_list.append(proxies)\n",
    "            else:\n",
    "                pass\n",
    "        except:\n",
    "            pass\n",
    "    \n",
    "    return ip_dict_list"
   ]
  },
  {
   "cell_type": "markdown",
   "metadata": {},
   "source": [
    "# 抓取可能免費IP清單"
   ]
  },
  {
   "cell_type": "code",
   "execution_count": 4,
   "metadata": {},
   "outputs": [
    {
     "name": "stderr",
     "output_type": "stream",
     "text": [
      "100%|████████████████████████████████████████████████████████████████████████████████████| 2/2 [00:08<00:00,  3.78s/it]\n"
     ]
    }
   ],
   "source": [
    "possible_ip_list=possible_ip_crawler()"
   ]
  },
  {
   "cell_type": "markdown",
   "metadata": {},
   "source": [
    "# 檢驗可能免費IP清單"
   ]
  },
  {
   "cell_type": "code",
   "execution_count": 5,
   "metadata": {},
   "outputs": [
    {
     "name": "stderr",
     "output_type": "stream",
     "text": [
      "100%|████████████████████████████████████████████████████████████████████████████████| 475/475 [35:57<00:00,  3.26s/it]\n"
     ]
    }
   ],
   "source": [
    "ip_dict_list=test_possible_ip(possible_ip_list)"
   ]
  },
  {
   "cell_type": "markdown",
   "metadata": {},
   "source": [
    "# 可用免費IP清單"
   ]
  },
  {
   "cell_type": "code",
   "execution_count": 6,
   "metadata": {},
   "outputs": [
    {
     "data": {
      "text/plain": [
       "[{'http': '37.120.214.22:8080', 'https': '37.120.214.22:8080'},\n",
       " {'http': '216.229.60.65:8080', 'https': '216.229.60.65:8080'},\n",
       " {'http': '182.253.70.252:80', 'https': '182.253.70.252:80'},\n",
       " {'http': '45.133.182.18:18080', 'https': '45.133.182.18:18080'},\n",
       " {'http': '45.230.171.91:999', 'https': '45.230.171.91:999'},\n",
       " {'http': '41.217.219.53:31398', 'https': '41.217.219.53:31398'},\n",
       " {'http': '103.126.149.33:8080', 'https': '103.126.149.33:8080'},\n",
       " {'http': '62.171.177.113:8888', 'https': '62.171.177.113:8888'},\n",
       " {'http': '202.138.242.41:46701', 'https': '202.138.242.41:46701'},\n",
       " {'http': '95.174.67.50:18080', 'https': '95.174.67.50:18080'},\n",
       " {'http': '180.248.72.200:3128', 'https': '180.248.72.200:3128'},\n",
       " {'http': '198.50.163.192:3129', 'https': '198.50.163.192:3129'},\n",
       " {'http': '122.102.27.197:23500', 'https': '122.102.27.197:23500'},\n",
       " {'http': '103.109.59.242:53281', 'https': '103.109.59.242:53281'}]"
      ]
     },
     "execution_count": 6,
     "metadata": {},
     "output_type": "execute_result"
    }
   ],
   "source": [
    "ip_dict_list"
   ]
  },
  {
   "cell_type": "code",
   "execution_count": 7,
   "metadata": {},
   "outputs": [
    {
     "name": "stdout",
     "output_type": "stream",
     "text": [
      "可用免費ip比例 : 14/475=2.95%\n"
     ]
    }
   ],
   "source": [
    "print('可用免費ip比例 : {}/{}={:4.2f}%'.format(len(ip_dict_list),len(possible_ip_list),(len(ip_dict_list)/len(possible_ip_list))*100))"
   ]
  },
  {
   "cell_type": "markdown",
   "metadata": {},
   "source": [
    "# 儲存可用免費IP清單成Json檔"
   ]
  },
  {
   "cell_type": "code",
   "execution_count": 8,
   "metadata": {},
   "outputs": [],
   "source": [
    "with open('./可用免費ip清單.json','w') as f:\n",
    "    json.dump(ip_dict_list,f)"
   ]
  },
  {
   "cell_type": "code",
   "execution_count": null,
   "metadata": {},
   "outputs": [],
   "source": []
  }
 ],
 "metadata": {
  "kernelspec": {
   "display_name": "Python 3",
   "language": "python",
   "name": "python3"
  },
  "language_info": {
   "codemirror_mode": {
    "name": "ipython",
    "version": 3
   },
   "file_extension": ".py",
   "mimetype": "text/x-python",
   "name": "python",
   "nbconvert_exporter": "python",
   "pygments_lexer": "ipython3",
   "version": "3.7.3"
  }
 },
 "nbformat": 4,
 "nbformat_minor": 2
}
