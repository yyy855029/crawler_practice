{
 "cells": [
  {
   "cell_type": "markdown",
   "metadata": {},
   "source": [
    "# 載入所需套件"
   ]
  },
  {
   "cell_type": "code",
   "execution_count": 1,
   "metadata": {},
   "outputs": [],
   "source": [
    "import requests \n",
    "from bs4 import BeautifulSoup\n",
    "import pandas as pd\n",
    "import numpy as np\n",
    "import os\n",
    "from urllib.request import urlretrieve\n",
    "from concurrent import futures\n",
    "from tqdm import tqdm"
   ]
  },
  {
   "cell_type": "markdown",
   "metadata": {},
   "source": [
    "# 定義爬取個別Yahoo電影院線片資訊細節函數"
   ]
  },
  {
   "cell_type": "code",
   "execution_count": 2,
   "metadata": {},
   "outputs": [],
   "source": [
    "def details_crawler(link_list):\n",
    "    link=link_list[0]\n",
    "    i=link_list[1]\n",
    "    r=requests.get(link,stream=True)\n",
    "    s=BeautifulSoup(r.text,'html.parser')\n",
    "    movie_intro_info_r=s.select('div.movie_intro_info_r')[0]\n",
    "    \n",
    "    return i,movie_intro_info_r    "
   ]
  },
  {
   "cell_type": "markdown",
   "metadata": {},
   "source": [
    "# 定義爬取Yahoo電影院線片排名資訊函數"
   ]
  },
  {
   "cell_type": "code",
   "execution_count": 3,
   "metadata": {},
   "outputs": [],
   "source": [
    "def yahoo_movie_crawler(url):\n",
    "    response=requests.get(url)\n",
    "    soup=BeautifulSoup(response.text,'html.parser')\n",
    "\n",
    "    movies=soup.select('ul.release_list>li')\n",
    "    cnames=[e.select('a')[1].text.replace('\\n','').replace(' ','') for e in movies]\n",
    "    links=[e.select('a')[1]['href'] for e in movies] \n",
    "    popularitys=[e.select('div.leveltext>span')[0].text for e in movies]\n",
    "    points=[e.select('span.count')[0]['data-num'] for e in movies]\n",
    "    texts=[e.select('div.release_text')[0].text.replace('\\n','').replace('\\r','').replace(' ','') for e in movies]\n",
    "    dates=[e.select('div.release_movie_time')[0].text.split(' ： ')[1] for e in movies]\n",
    "    imgs=[e.select('img')[0]['src'] for e in movies]\n",
    "    #處理可能英文電影名遺漏值\n",
    "    enames=[]\n",
    "    for e in movies:\n",
    "        if e.select('a')[2].text.replace('\\n','').replace('  ','')=='':\n",
    "            enames.append(np.nan)\n",
    "        else:\n",
    "            enames.append(e.select('a')[2].text.replace('\\n','').replace('  ',''))\n",
    "            \n",
    "    directors=[0]*len(links)\n",
    "    actors=[0]*len(links)\n",
    "    periods=[0]*len(links)\n",
    "    companys=[0]*len(links)\n",
    "    imdbs=[0]*len(links)\n",
    "            \n",
    "    link_list=[]\n",
    "    for i in range(len(links)):\n",
    "        link_list.append([links[i],i])       \n",
    "    \n",
    "     #進入每個連結爬取(執行thread層級的非同步任務)\n",
    "    with futures.ThreadPoolExecutor(max_workers=8) as executor:\n",
    "        results=list(executor.map(details_crawler,link_list))\n",
    "\n",
    "        for future in results:\n",
    "            i,movie_intro_info_r=future\n",
    "            directors[i]=movie_intro_info_r.select('div.movie_intro_list')[0].text.replace('\\n','').replace(' ','')\n",
    "            periods[i]=movie_intro_info_r.select('span')[1].text.split('：')[1]\n",
    "            companys[i]=movie_intro_info_r.select('span')[2].text.split('：')[1]\n",
    "            #處理可能演員遺漏值\n",
    "            if movie_intro_info_r.select('div.movie_intro_list')[1].text.replace('\\n','').replace(' ','')=='':\n",
    "                actors[i]=np.nan\n",
    "            else:\n",
    "                actors[i]=movie_intro_info_r.select('div.movie_intro_list')[1].text.replace('\\n','').replace(' ','')\n",
    "            #處理可能IMDb分數遺漏值\n",
    "            if movie_intro_info_r.select('span')[3].text.split('：')[1]=='':\n",
    "                imdbs[i]=np.nan\n",
    "            else:\n",
    "                imdbs[i]=movie_intro_info_r.select('span')[3].text.split('：')[1]\n",
    "    \n",
    "    df=pd.DataFrame({\n",
    "        '中文電影名':cnames,\n",
    "        '英文電影名':enames,\n",
    "        '上映日':dates,\n",
    "        '導演':directors,\n",
    "        '演員':actors,\n",
    "        '片長':periods,\n",
    "        'IMDb分數':imdbs,\n",
    "        '期待度':popularitys,\n",
    "        '滿意度':points,\n",
    "        '介紹':texts,\n",
    "        '網址':links,\n",
    "        '電影劇照':imgs\n",
    "    })        \n",
    "    \n",
    "    return df"
   ]
  },
  {
   "cell_type": "markdown",
   "metadata": {},
   "source": [
    "# 定義爬取Yahoo電影院線片排名頁數函數"
   ]
  },
  {
   "cell_type": "code",
   "execution_count": 4,
   "metadata": {},
   "outputs": [],
   "source": [
    "def page_function(page):\n",
    "    dfs=[]\n",
    "    \n",
    "    for i in tqdm(range(page)):\n",
    "        url='https://movies.yahoo.com.tw/movie_intheaters.html?page={}'.format(i+1)\n",
    "        d=yahoo_movie_crawler(url)\n",
    "        dfs.append(d)\n",
    "    \n",
    "    df=pd.concat(dfs,ignore_index=True)\n",
    "    \n",
    "    return df"
   ]
  },
  {
   "cell_type": "markdown",
   "metadata": {},
   "source": [
    "# 指定總頁數表格呈現"
   ]
  },
  {
   "cell_type": "code",
   "execution_count": 5,
   "metadata": {},
   "outputs": [
    {
     "name": "stderr",
     "output_type": "stream",
     "text": [
      "100%|████████████████████████████████████████████████████████████████████████████████████| 3/3 [00:08<00:00,  2.78s/it]\n"
     ]
    },
    {
     "data": {
      "text/html": [
       "<div>\n",
       "<style scoped>\n",
       "    .dataframe tbody tr th:only-of-type {\n",
       "        vertical-align: middle;\n",
       "    }\n",
       "\n",
       "    .dataframe tbody tr th {\n",
       "        vertical-align: top;\n",
       "    }\n",
       "\n",
       "    .dataframe thead th {\n",
       "        text-align: right;\n",
       "    }\n",
       "</style>\n",
       "<table border=\"1\" class=\"dataframe\">\n",
       "  <thead>\n",
       "    <tr style=\"text-align: right;\">\n",
       "      <th></th>\n",
       "      <th>中文電影名</th>\n",
       "      <th>英文電影名</th>\n",
       "      <th>上映日</th>\n",
       "      <th>導演</th>\n",
       "      <th>演員</th>\n",
       "      <th>片長</th>\n",
       "      <th>IMDb分數</th>\n",
       "      <th>期待度</th>\n",
       "      <th>滿意度</th>\n",
       "      <th>介紹</th>\n",
       "      <th>網址</th>\n",
       "      <th>電影劇照</th>\n",
       "    </tr>\n",
       "  </thead>\n",
       "  <tbody>\n",
       "    <tr>\n",
       "      <th>0</th>\n",
       "      <td>音速小子</td>\n",
       "      <td>Sonic the Hedgehog</td>\n",
       "      <td>2020-02-21</td>\n",
       "      <td>傑夫富勒(JeffFowler)</td>\n",
       "      <td>金凱瑞(JimCarrey)、詹姆斯馬斯登(JamesMarsden)、班許瓦茲(BenSc...</td>\n",
       "      <td>01時39分</td>\n",
       "      <td>6.9</td>\n",
       "      <td>69%</td>\n",
       "      <td>4.1</td>\n",
       "      <td>★《死侍》、《玩命關頭》幕後團隊最新力作 ★智慧大反派金凱瑞端出高科技武器PK全新超級快英雄...</td>\n",
       "      <td>https://movies.yahoo.com.tw/movieinfo_main/%E9...</td>\n",
       "      <td>https://movies.yahoo.com.tw/x/r/w420/i/o/produ...</td>\n",
       "    </tr>\n",
       "    <tr>\n",
       "      <th>1</th>\n",
       "      <td>李察朱威爾事件</td>\n",
       "      <td>Richard Jewell</td>\n",
       "      <td>2020-02-21</td>\n",
       "      <td>克林伊斯威特(ClintEastwood)</td>\n",
       "      <td>山姆洛克威爾(SamRockwell)、奧莉維亞魏爾德(OliviaWilde)、喬漢姆(J...</td>\n",
       "      <td>02時11分</td>\n",
       "      <td>7.5</td>\n",
       "      <td>92%</td>\n",
       "      <td>4.3</td>\n",
       "      <td>由克林伊斯威特執導，根據真實事件改編，《李察朱威爾事件》一片描述當不實的報導被當作事實時，真...</td>\n",
       "      <td>https://movies.yahoo.com.tw/movieinfo_main/%E6...</td>\n",
       "      <td>https://movies.yahoo.com.tw/x/r/w420/i/o/produ...</td>\n",
       "    </tr>\n",
       "    <tr>\n",
       "      <th>2</th>\n",
       "      <td>絕命大平台</td>\n",
       "      <td>The Platform</td>\n",
       "      <td>2020-02-21</td>\n",
       "      <td>高德加斯泰盧烏魯提亞(GalderGaztelu-Urrutia)</td>\n",
       "      <td>伊萬馬薩格(IvanMassagué)、安東妮亞聖胡安(AntoniaSanJuan)、佐里...</td>\n",
       "      <td>01時34分</td>\n",
       "      <td>7.2</td>\n",
       "      <td>79%</td>\n",
       "      <td>3.5</td>\n",
       "      <td>★挖掘人性直逼《奪魂鋸》，禁閉設定媲美《異次元殺陣》★反烏托邦宛如《摩天樓》，為了自由，你能...</td>\n",
       "      <td>https://movies.yahoo.com.tw/movieinfo_main/%E7...</td>\n",
       "      <td>https://movies.yahoo.com.tw/x/r/w420/i/o/produ...</td>\n",
       "    </tr>\n",
       "    <tr>\n",
       "      <th>3</th>\n",
       "      <td>陰櫥</td>\n",
       "      <td>The Closet</td>\n",
       "      <td>2020-02-21</td>\n",
       "      <td>金光斌</td>\n",
       "      <td>河正宇(Jung-wooHa)、金南佶</td>\n",
       "      <td>01時38分</td>\n",
       "      <td>6.3</td>\n",
       "      <td>86%</td>\n",
       "      <td>4.0</td>\n",
       "      <td>★《白頭山：半島浩劫》製片團隊最新恐怖懼作★《白頭山：半島浩劫》河正宇×《熱血司祭》金南佶精...</td>\n",
       "      <td>https://movies.yahoo.com.tw/movieinfo_main/%E9...</td>\n",
       "      <td>https://movies.yahoo.com.tw/x/r/w420/i/o/produ...</td>\n",
       "    </tr>\n",
       "    <tr>\n",
       "      <th>4</th>\n",
       "      <td>咒怨電影版</td>\n",
       "      <td>Ju-On</td>\n",
       "      <td>2020-02-21</td>\n",
       "      <td>清水崇(TakashiShimizu)</td>\n",
       "      <td>奧菜惠、伊東美咲、上原美佐、市川由衣</td>\n",
       "      <td>01時32分</td>\n",
       "      <td>6.7</td>\n",
       "      <td>79%</td>\n",
       "      <td>4.1</td>\n",
       "      <td>★繼《七夜怪談》七夜怪談中田秀夫後，日本恐怖大師清水祟自編自導的一鳴驚人之作。★J-Horr...</td>\n",
       "      <td>https://movies.yahoo.com.tw/movieinfo_main/%E5...</td>\n",
       "      <td>https://movies.yahoo.com.tw/x/r/w420/i/o/produ...</td>\n",
       "    </tr>\n",
       "  </tbody>\n",
       "</table>\n",
       "</div>"
      ],
      "text/plain": [
       "     中文電影名               英文電影名         上映日                                 導演  \\\n",
       "0     音速小子  Sonic the Hedgehog  2020-02-21                   傑夫富勒(JeffFowler)   \n",
       "1  李察朱威爾事件      Richard Jewell  2020-02-21              克林伊斯威特(ClintEastwood)   \n",
       "2    絕命大平台        The Platform  2020-02-21  高德加斯泰盧烏魯提亞(GalderGaztelu-Urrutia)   \n",
       "3       陰櫥          The Closet  2020-02-21                                金光斌   \n",
       "4    咒怨電影版               Ju-On  2020-02-21                清水崇(TakashiShimizu)   \n",
       "\n",
       "                                                  演員      片長 IMDb分數  期待度  滿意度  \\\n",
       "0  金凱瑞(JimCarrey)、詹姆斯馬斯登(JamesMarsden)、班許瓦茲(BenSc...  01時39分    6.9  69%  4.1   \n",
       "1  山姆洛克威爾(SamRockwell)、奧莉維亞魏爾德(OliviaWilde)、喬漢姆(J...  02時11分    7.5  92%  4.3   \n",
       "2  伊萬馬薩格(IvanMassagué)、安東妮亞聖胡安(AntoniaSanJuan)、佐里...  01時34分    7.2  79%  3.5   \n",
       "3                                河正宇(Jung-wooHa)、金南佶  01時38分    6.3  86%  4.0   \n",
       "4                                 奧菜惠、伊東美咲、上原美佐、市川由衣  01時32分    6.7  79%  4.1   \n",
       "\n",
       "                                                  介紹  \\\n",
       "0  ★《死侍》、《玩命關頭》幕後團隊最新力作 ★智慧大反派金凱瑞端出高科技武器PK全新超級快英雄...   \n",
       "1  由克林伊斯威特執導，根據真實事件改編，《李察朱威爾事件》一片描述當不實的報導被當作事實時，真...   \n",
       "2  ★挖掘人性直逼《奪魂鋸》，禁閉設定媲美《異次元殺陣》★反烏托邦宛如《摩天樓》，為了自由，你能...   \n",
       "3  ★《白頭山：半島浩劫》製片團隊最新恐怖懼作★《白頭山：半島浩劫》河正宇×《熱血司祭》金南佶精...   \n",
       "4  ★繼《七夜怪談》七夜怪談中田秀夫後，日本恐怖大師清水祟自編自導的一鳴驚人之作。★J-Horr...   \n",
       "\n",
       "                                                  網址  \\\n",
       "0  https://movies.yahoo.com.tw/movieinfo_main/%E9...   \n",
       "1  https://movies.yahoo.com.tw/movieinfo_main/%E6...   \n",
       "2  https://movies.yahoo.com.tw/movieinfo_main/%E7...   \n",
       "3  https://movies.yahoo.com.tw/movieinfo_main/%E9...   \n",
       "4  https://movies.yahoo.com.tw/movieinfo_main/%E5...   \n",
       "\n",
       "                                                電影劇照  \n",
       "0  https://movies.yahoo.com.tw/x/r/w420/i/o/produ...  \n",
       "1  https://movies.yahoo.com.tw/x/r/w420/i/o/produ...  \n",
       "2  https://movies.yahoo.com.tw/x/r/w420/i/o/produ...  \n",
       "3  https://movies.yahoo.com.tw/x/r/w420/i/o/produ...  \n",
       "4  https://movies.yahoo.com.tw/x/r/w420/i/o/produ...  "
      ]
     },
     "execution_count": 5,
     "metadata": {},
     "output_type": "execute_result"
    }
   ],
   "source": [
    "df=page_function(3)\n",
    "df.head()"
   ]
  },
  {
   "cell_type": "markdown",
   "metadata": {},
   "source": [
    "# 抓取Yahoo電影院線片劇照"
   ]
  },
  {
   "cell_type": "code",
   "execution_count": 6,
   "metadata": {},
   "outputs": [
    {
     "name": "stdout",
     "output_type": "stream",
     "text": [
      "音速小子\n",
      "李察朱威爾事件\n",
      "絕命大平台\n",
      "陰櫥\n",
      "咒怨電影版\n",
      "少年阿罕默德\n",
      "閃閃小超人電影版\n",
      "吹哨奇案\n",
      "悲慘世界\n",
      "電影音效傳奇：好萊塢之聲\n"
     ]
    }
   ],
   "source": [
    "cnames=df['中文電影名'].values.tolist()\n",
    "imgs=df['電影劇照'].values.tolist()\n",
    "\n",
    "directory='Yahoo電影院線片劇照'\n",
    "if not os.path.isdir(directory):\n",
    "    os.makedirs(directory)\n",
    "\n",
    "for cname,img in zip(cnames[:10],imgs[:10]):    \n",
    "    print(cname)\n",
    "    urlretrieve(img,directory+'/{}.jpg'.format(cname))"
   ]
  },
  {
   "cell_type": "code",
   "execution_count": null,
   "metadata": {},
   "outputs": [],
   "source": []
  }
 ],
 "metadata": {
  "kernelspec": {
   "display_name": "Python 3",
   "language": "python",
   "name": "python3"
  },
  "language_info": {
   "codemirror_mode": {
    "name": "ipython",
    "version": 3
   },
   "file_extension": ".py",
   "mimetype": "text/x-python",
   "name": "python",
   "nbconvert_exporter": "python",
   "pygments_lexer": "ipython3",
   "version": "3.7.3"
  }
 },
 "nbformat": 4,
 "nbformat_minor": 2
}
