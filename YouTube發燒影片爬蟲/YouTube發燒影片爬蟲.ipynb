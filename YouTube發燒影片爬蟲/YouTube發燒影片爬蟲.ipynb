{
 "cells": [
  {
   "cell_type": "markdown",
   "metadata": {},
   "source": [
    "# 載入所需套件"
   ]
  },
  {
   "cell_type": "code",
   "execution_count": 1,
   "metadata": {},
   "outputs": [],
   "source": [
    "import requests\n",
    "from bs4 import BeautifulSoup\n",
    "import pandas as pd\n",
    "import numpy as np\n",
    "from concurrent import futures\n",
    "from tqdm import tqdm"
   ]
  },
  {
   "cell_type": "markdown",
   "metadata": {},
   "source": [
    "# 定義爬取個別YouTube發燒影片頻道訂閱數函數"
   ]
  },
  {
   "cell_type": "code",
   "execution_count": 2,
   "metadata": {},
   "outputs": [],
   "source": [
    "def channel_crawler(link_list):\n",
    "    link=link_list[0]\n",
    "    i=link_list[1]\n",
    "    r=requests.get(link)\n",
    "    s=BeautifulSoup(r.text,'html.parser')\n",
    "    #解決從發燒影片頻道可能無訂閱數問題\n",
    "    if s.select('span.yt-subscription-button-subscriber-count-branded-horizontal')==[]:\n",
    "        subscription=np.nan\n",
    "    else:\n",
    "        subscription=s.select('span.yt-subscription-button-subscriber-count-branded-horizontal')[0].text\n",
    "   \n",
    "    return i,subscription"
   ]
  },
  {
   "cell_type": "markdown",
   "metadata": {},
   "source": [
    "# 定義爬取YouTube發燒影片資訊函數"
   ]
  },
  {
   "cell_type": "code",
   "execution_count": 3,
   "metadata": {},
   "outputs": [],
   "source": [
    "def youtube_trending_crawler():\n",
    "    url='https://www.youtube.com/feed/trending'\n",
    "    response=requests.get(url)\n",
    "    soup=BeautifulSoup(response.text,'html.parser')\n",
    "\n",
    "    items=soup.select('div.yt-lockup-content')\n",
    "    videos=[e.select('a')[0].text for e in items]\n",
    "    vlinks=['https://www.youtube.com{}'.format(e.select('a')[0]['href']) for e in items]\n",
    "    channels=[e.select('a')[1].text for e in items]\n",
    "    clinks=['https://www.youtube.com{}'.format(e.select('a')[1]['href']) for e in items]\n",
    "    days=[e.select('li')[0].text for e in items]\n",
    "    times=[int(e.select('li')[1].text[5:-1].replace(',','')) for e in items]\n",
    "    #解決有可能發燒影片沒影片描述問題\n",
    "    descriptions=[]\n",
    "    for e in items:\n",
    "        if e.select('div.yt-lockup-description')==[]:\n",
    "            descriptions.append(np.nan)\n",
    "        else:\n",
    "            descriptions.append(e.select('div.yt-lockup-description')[0].text)\n",
    "    \n",
    "    ranks=list(range(1,len(videos)+1))\n",
    "    subscriptions=[0]*len(clinks)\n",
    "    \n",
    "    link_list=[]\n",
    "    for i in range(len(clinks)):\n",
    "        link_list.append([clinks[i],i])\n",
    "    \n",
    "    #進入每個連結爬取(執行thread層級的非同步任務)\n",
    "    with futures.ThreadPoolExecutor(max_workers=8) as executor:\n",
    "        results=list(tqdm(executor.map(channel_crawler,link_list),total=len(link_list)))\n",
    "\n",
    "        for future in results:\n",
    "            i,subscription=future\n",
    "            subscriptions[i]=subscription\n",
    "            \n",
    "    df=pd.DataFrame({\n",
    "        '排名':ranks,\n",
    "        '影片':videos,\n",
    "        '觀看次數':times,\n",
    "        '時間':days,\n",
    "        '影片連結':vlinks,\n",
    "        '描述':descriptions,\n",
    "        '頻道':channels,\n",
    "        '訂閱數':subscriptions,\n",
    "        '頻道連結':clinks\n",
    "    })\n",
    "    \n",
    "    return df"
   ]
  },
  {
   "cell_type": "markdown",
   "metadata": {},
   "source": [
    "# 抓取YouTube發燒影片資訊"
   ]
  },
  {
   "cell_type": "code",
   "execution_count": 4,
   "metadata": {},
   "outputs": [
    {
     "name": "stderr",
     "output_type": "stream",
     "text": [
      "100%|██████████████████████████████████████████████████████████████████████████████████| 81/81 [00:48<00:00,  1.67it/s]\n"
     ]
    },
    {
     "data": {
      "text/html": [
       "<div>\n",
       "<style scoped>\n",
       "    .dataframe tbody tr th:only-of-type {\n",
       "        vertical-align: middle;\n",
       "    }\n",
       "\n",
       "    .dataframe tbody tr th {\n",
       "        vertical-align: top;\n",
       "    }\n",
       "\n",
       "    .dataframe thead th {\n",
       "        text-align: right;\n",
       "    }\n",
       "</style>\n",
       "<table border=\"1\" class=\"dataframe\">\n",
       "  <thead>\n",
       "    <tr style=\"text-align: right;\">\n",
       "      <th></th>\n",
       "      <th>排名</th>\n",
       "      <th>影片</th>\n",
       "      <th>觀看次數</th>\n",
       "      <th>時間</th>\n",
       "      <th>影片連結</th>\n",
       "      <th>描述</th>\n",
       "      <th>頻道</th>\n",
       "      <th>訂閱數</th>\n",
       "      <th>頻道連結</th>\n",
       "    </tr>\n",
       "  </thead>\n",
       "  <tbody>\n",
       "    <tr>\n",
       "      <th>0</th>\n",
       "      <td>1</td>\n",
       "      <td>他1人傳染10多人武漢出現\"超級傳播者\" 口罩禁出口范范臉書罵\"泯滅人性\" 遭網友譙翻後道歉...</td>\n",
       "      <td>299941</td>\n",
       "      <td>1 天前</td>\n",
       "      <td>https://www.youtube.com/watch?v=W2jxntejoh8</td>\n",
       "      <td>➲ iNEWS 最正新聞直播 https://ppt.cc/fjzJax➲ 鄭知道了新頻道 ...</td>\n",
       "      <td>三立iNEWS</td>\n",
       "      <td>59.7萬</td>\n",
       "      <td>https://www.youtube.com/user/setmoney159</td>\n",
       "    </tr>\n",
       "    <tr>\n",
       "      <th>1</th>\n",
       "      <td>2</td>\n",
       "      <td>#最新消息  ＮＢＡ傳奇球星黑曼巴Kobe Bryant搭乘直升機前往籃球學校發生意外 享年...</td>\n",
       "      <td>466962</td>\n",
       "      <td>2 天前</td>\n",
       "      <td>https://www.youtube.com/watch?v=pb_OPfXCiFA</td>\n",
       "      <td>NaN</td>\n",
       "      <td>從台灣看見世界的故事</td>\n",
       "      <td>29.1萬</td>\n",
       "      <td>https://www.youtube.com/channel/UCaHvWPMrGgcd4...</td>\n",
       "    </tr>\n",
       "    <tr>\n",
       "      <th>2</th>\n",
       "      <td>3</td>\n",
       "      <td>摔爛酷炫公仔-1:1鋼鐵人半身雕像,酷炫氣得跳腳,好笑嗎?│WACKYBOYS│反骨│酷炫發...</td>\n",
       "      <td>558977</td>\n",
       "      <td>1 天前</td>\n",
       "      <td>https://www.youtube.com/watch?v=k3LM9jFgo7g</td>\n",
       "      <td>話劇社生氣來了!!另一支影片有公仔修復喔看起來培根唯一一款Tshirt⭐我被開除了預購起來►...</td>\n",
       "      <td>WACKYBOYS 反骨男孩</td>\n",
       "      <td>137萬</td>\n",
       "      <td>https://www.youtube.com/user/KEVIN0204660</td>\n",
       "    </tr>\n",
       "    <tr>\n",
       "      <th>3</th>\n",
       "      <td>4</td>\n",
       "      <td>“冠状病毒”是什么？武汉新型肺炎病毒是如何使人生病的？</td>\n",
       "      <td>1132255</td>\n",
       "      <td>1 天前</td>\n",
       "      <td>https://www.youtube.com/watch?v=E46_veB0DPU</td>\n",
       "      <td>【加入会员链接】https://www.youtube.com/channel/UCSs4A...</td>\n",
       "      <td>李永乐老师</td>\n",
       "      <td>95.6萬</td>\n",
       "      <td>https://www.youtube.com/channel/UCSs4A6HYKmHA2...</td>\n",
       "    </tr>\n",
       "    <tr>\n",
       "      <th>4</th>\n",
       "      <td>5</td>\n",
       "      <td>BTS: Black Swan</td>\n",
       "      <td>2935997</td>\n",
       "      <td>8 小時前</td>\n",
       "      <td>https://www.youtube.com/watch?v=wSNd02kVv8o</td>\n",
       "      <td>Late Late Show music guest BTS lights up Stage...</td>\n",
       "      <td>The Late Late Show with James Corden</td>\n",
       "      <td>2200萬</td>\n",
       "      <td>https://www.youtube.com/user/TheLateLateShow</td>\n",
       "    </tr>\n",
       "  </tbody>\n",
       "</table>\n",
       "</div>"
      ],
      "text/plain": [
       "   排名                                                 影片     觀看次數     時間  \\\n",
       "0   1  他1人傳染10多人武漢出現\"超級傳播者\" 口罩禁出口范范臉書罵\"泯滅人性\" 遭網友譙翻後道歉...   299941   1 天前   \n",
       "1   2  #最新消息  ＮＢＡ傳奇球星黑曼巴Kobe Bryant搭乘直升機前往籃球學校發生意外 享年...   466962   2 天前   \n",
       "2   3  摔爛酷炫公仔-1:1鋼鐵人半身雕像,酷炫氣得跳腳,好笑嗎?│WACKYBOYS│反骨│酷炫發...   558977   1 天前   \n",
       "3   4                        “冠状病毒”是什么？武汉新型肺炎病毒是如何使人生病的？  1132255   1 天前   \n",
       "4   5                                    BTS: Black Swan  2935997  8 小時前   \n",
       "\n",
       "                                          影片連結  \\\n",
       "0  https://www.youtube.com/watch?v=W2jxntejoh8   \n",
       "1  https://www.youtube.com/watch?v=pb_OPfXCiFA   \n",
       "2  https://www.youtube.com/watch?v=k3LM9jFgo7g   \n",
       "3  https://www.youtube.com/watch?v=E46_veB0DPU   \n",
       "4  https://www.youtube.com/watch?v=wSNd02kVv8o   \n",
       "\n",
       "                                                  描述  \\\n",
       "0  ➲ iNEWS 最正新聞直播 https://ppt.cc/fjzJax➲ 鄭知道了新頻道 ...   \n",
       "1                                                NaN   \n",
       "2  話劇社生氣來了!!另一支影片有公仔修復喔看起來培根唯一一款Tshirt⭐我被開除了預購起來►...   \n",
       "3  【加入会员链接】https://www.youtube.com/channel/UCSs4A...   \n",
       "4  Late Late Show music guest BTS lights up Stage...   \n",
       "\n",
       "                                     頻道    訂閱數  \\\n",
       "0                               三立iNEWS  59.7萬   \n",
       "1                            從台灣看見世界的故事  29.1萬   \n",
       "2                        WACKYBOYS 反骨男孩   137萬   \n",
       "3                                 李永乐老师  95.6萬   \n",
       "4  The Late Late Show with James Corden  2200萬   \n",
       "\n",
       "                                                頻道連結  \n",
       "0           https://www.youtube.com/user/setmoney159  \n",
       "1  https://www.youtube.com/channel/UCaHvWPMrGgcd4...  \n",
       "2          https://www.youtube.com/user/KEVIN0204660  \n",
       "3  https://www.youtube.com/channel/UCSs4A6HYKmHA2...  \n",
       "4       https://www.youtube.com/user/TheLateLateShow  "
      ]
     },
     "execution_count": 4,
     "metadata": {},
     "output_type": "execute_result"
    }
   ],
   "source": [
    "df=youtube_trending_crawler()\n",
    "df.head()"
   ]
  },
  {
   "cell_type": "code",
   "execution_count": null,
   "metadata": {},
   "outputs": [],
   "source": []
  }
 ],
 "metadata": {
  "kernelspec": {
   "display_name": "Python 3",
   "language": "python",
   "name": "python3"
  },
  "language_info": {
   "codemirror_mode": {
    "name": "ipython",
    "version": 3
   },
   "file_extension": ".py",
   "mimetype": "text/x-python",
   "name": "python",
   "nbconvert_exporter": "python",
   "pygments_lexer": "ipython3",
   "version": "3.7.3"
  }
 },
 "nbformat": 4,
 "nbformat_minor": 2
}
