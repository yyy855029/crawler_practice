{
 "cells": [
  {
   "cell_type": "markdown",
   "metadata": {},
   "source": [
    "# 載入所需套件"
   ]
  },
  {
   "cell_type": "code",
   "execution_count": 1,
   "metadata": {},
   "outputs": [],
   "source": [
    "import requests\n",
    "from bs4 import BeautifulSoup\n",
    "import json\n",
    "import numpy as np\n",
    "import pandas as pd\n",
    "import time\n",
    "from datetime import datetime,timezone,timedelta\n",
    "import calendar\n",
    "from tqdm import tqdm\n",
    "from concurrent import futures"
   ]
  },
  {
   "cell_type": "markdown",
   "metadata": {},
   "source": [
    "# 定義爬取每篇鉅亨網台股新聞內容函數"
   ]
  },
  {
   "cell_type": "code",
   "execution_count": 2,
   "metadata": {},
   "outputs": [],
   "source": [
    "def article_crawler(link_list):\n",
    "    link=link_list[0]\n",
    "    i=link_list[1]\n",
    "    r=requests.get(link)\n",
    "    s=BeautifulSoup(r.text,'html.parser')\n",
    "    article=''.join([e.text.replace('\\n','') for e in s.select('._2E8y>p')])\n",
    "    time.sleep(0.5)\n",
    "\n",
    "    return i,article"
   ]
  },
  {
   "cell_type": "markdown",
   "metadata": {},
   "source": [
    "# 定義爬取單頁鉅亨網台股新聞資訊函數"
   ]
  },
  {
   "cell_type": "code",
   "execution_count": 3,
   "metadata": {},
   "outputs": [],
   "source": [
    "def cnyes_news_crawler(url_list):\n",
    "    url=url_list[0]\n",
    "    j=url_list[1]\n",
    "    response=requests.get(url)\n",
    "    #json格式\n",
    "    dicts=json.loads(response.text)\n",
    "    data=dicts['items']['data']\n",
    "\n",
    "    #網站時間是UTC+0(格林威治標準時間)，要調整成台灣時區UTC+8(東八區)\n",
    "    publish_Ats=[np.datetime64(datetime.utcfromtimestamp(data[i]['publishAt']).replace(tzinfo=timezone.utc).astimezone(timezone(timedelta(hours=8))).strftime('%Y-%m-%d %H:%M:%S')) for i in range(len(data))]\n",
    "    news_Ids=[data[i]['newsId'] for i in range(len(data))]\n",
    "    links=['https://news.cnyes.com/news/id/{}?exp=a'.format(id_num) for id_num in news_Ids]\n",
    "    titles=[data[i]['title'] for i in range(len(data))]\n",
    "    summaries=[data[i]['summary'] for i in range(len(data))]\n",
    "    markets=[data[i]['market'] for i in range(len(data))]\n",
    "\n",
    "    articles=[0]*len(links)\n",
    "    link_list=[[links[i],i] for i in range(len(links))]\n",
    "    \n",
    "    #進入每個連結爬取(執行thread層級的非同步任務)\n",
    "    with futures.ThreadPoolExecutor(max_workers=8) as executor:\n",
    "        results=list(executor.map(article_crawler,link_list))\n",
    "        for future in results:\n",
    "            i,article=future\n",
    "            articles[i]=''.join(article)\n",
    "\n",
    "    df=pd.DataFrame({\n",
    "        '時間':publish_Ats,\n",
    "        '編號':news_Ids,\n",
    "        '標題':titles,\n",
    "        '簡介':summaries,\n",
    "        '內容':articles,\n",
    "        '影響個股':markets,\n",
    "        '連結':links\n",
    "    })\n",
    "        \n",
    "    return j,df"
   ]
  },
  {
   "cell_type": "markdown",
   "metadata": {},
   "source": [
    "# 定義爬取指定時間範圍下每頁鉅亨網台股新聞資訊函數"
   ]
  },
  {
   "cell_type": "code",
   "execution_count": 4,
   "metadata": {},
   "outputs": [],
   "source": [
    "def time_range_page_crawler(starttime,endtime):\n",
    "    #starttime和endtime間距不能超過60天\n",
    "    startAt=int(time.mktime(starttime.timetuple()))\n",
    "    endAt=int(time.mktime(endtime.timetuple()))\n",
    "    start_url='https://api.cnyes.com/media/api/v1/newslist/category/tw_stock?startAt={}&endAt={}&isCategoryHeadline=1&limit=30'.format(startAt,endAt)\n",
    "    \n",
    "    response=requests.get(start_url)\n",
    "    #json格式\n",
    "    dicts=json.loads(response.text)\n",
    "    total_page=dicts['items']['last_page']\n",
    "    url_links=[start_url+'&page={}'.format(i+1) for i in range(total_page)]\n",
    "    url_list=[[url_links[i],i] for i in range(len(url_links))]\n",
    "    df_list=[0]*len(url_links)\n",
    "    \n",
    "    #進入每個連結爬取(執行thread層級的非同步任務)\n",
    "    with futures.ThreadPoolExecutor(max_workers=8) as executor:\n",
    "        results=list(tqdm(executor.map(cnyes_news_crawler,url_list),total=len(url_list)))\n",
    "        for future in results:\n",
    "            j,df=future\n",
    "            df_list[j]=df\n",
    "    \n",
    "    merge_df=pd.concat(df_list,ignore_index=True)\n",
    "    merge_df.sort_values(['時間'],inplace=True)\n",
    "    merge_df.reset_index(drop=True,inplace=True)\n",
    "        \n",
    "    return merge_df"
   ]
  },
  {
   "cell_type": "markdown",
   "metadata": {},
   "source": [
    "# 定義遞迴爬取指定時間範圍下全部鉅亨網台股新聞資訊函數"
   ]
  },
  {
   "cell_type": "code",
   "execution_count": 5,
   "metadata": {},
   "outputs": [],
   "source": [
    "def date_range_total_crawler(total_time):\n",
    "    #從今天日期當起始天，往後間隔60天\n",
    "    endtime=datetime.now().date()\n",
    "    starttime=(endtime-timedelta(days=60))\n",
    "\n",
    "    merge_df_list=[]\n",
    "    \n",
    "    #跑幾組間隔60天差距天數新聞\n",
    "    for iter_time in range(total_time):\n",
    "        merge_df=time_range_page_crawler(starttime,endtime)\n",
    "        merge_df_list.append(merge_df)\n",
    "        endtime=starttime-timedelta(days=1)\n",
    "        starttime=endtime-timedelta(days=60)\n",
    "\n",
    "    total_merge_df=pd.concat(merge_df_list,ignore_index=True)\n",
    "    total_merge_df.sort_values(['時間'],inplace=True)\n",
    "    total_merge_df.reset_index(drop=True,inplace=True)\n",
    "    \n",
    "    return total_merge_df"
   ]
  },
  {
   "cell_type": "markdown",
   "metadata": {},
   "source": [
    "# 遞迴爬取指定時間範圍下全部鉅亨網台股新聞資訊"
   ]
  },
  {
   "cell_type": "code",
   "execution_count": 6,
   "metadata": {},
   "outputs": [
    {
     "name": "stderr",
     "output_type": "stream",
     "text": [
      "100%|██████████████████████████████████████████████████████████████████████████████████| 90/90 [04:24<00:00, 10.04s/it]\n",
      "100%|██████████████████████████████████████████████████████████████████████████████████| 97/97 [05:21<00:00,  3.32s/it]\n",
      "100%|██████████████████████████████████████████████████████████████████████████████████| 78/78 [03:17<00:00,  2.53s/it]\n"
     ]
    },
    {
     "data": {
      "text/html": [
       "<div>\n",
       "<style scoped>\n",
       "    .dataframe tbody tr th:only-of-type {\n",
       "        vertical-align: middle;\n",
       "    }\n",
       "\n",
       "    .dataframe tbody tr th {\n",
       "        vertical-align: top;\n",
       "    }\n",
       "\n",
       "    .dataframe thead th {\n",
       "        text-align: right;\n",
       "    }\n",
       "</style>\n",
       "<table border=\"1\" class=\"dataframe\">\n",
       "  <thead>\n",
       "    <tr style=\"text-align: right;\">\n",
       "      <th></th>\n",
       "      <th>時間</th>\n",
       "      <th>編號</th>\n",
       "      <th>標題</th>\n",
       "      <th>簡介</th>\n",
       "      <th>內容</th>\n",
       "      <th>影響個股</th>\n",
       "      <th>連結</th>\n",
       "    </tr>\n",
       "  </thead>\n",
       "  <tbody>\n",
       "    <tr>\n",
       "      <th>0</th>\n",
       "      <td>2020-01-08 00:31:02</td>\n",
       "      <td>4430804</td>\n",
       "      <td>〈聯發科天璣800〉CES展正式亮相 攻中階市場 有助上半年營運</td>\n",
       "      <td>IC 設計大廠聯發科 (2454-TW) 今 (7) 日在美國消費性電子展 (CES) 推出...</td>\n",
       "      <td>IC 設計大廠聯發科 (2454-TW) 7 日在美國消費性電子展 (CES) 推出第 2 ...</td>\n",
       "      <td>[{'code': '2454', 'name': '聯發科', 'symbol': 'TW...</td>\n",
       "      <td>https://news.cnyes.com/news/id/4430804?exp=a</td>\n",
       "    </tr>\n",
       "    <tr>\n",
       "      <th>1</th>\n",
       "      <td>2020-01-08 08:02:11</td>\n",
       "      <td>4430827</td>\n",
       "      <td>盤前財經大事搶先讀2020年01月08日</td>\n",
       "      <td></td>\n",
       "      <td>美國 12 月 ADP 就業報告日本 12 月實質薪資德國 11 月製造業訂單波音股價週二上...</td>\n",
       "      <td>[]</td>\n",
       "      <td>https://news.cnyes.com/news/id/4430827?exp=a</td>\n",
       "    </tr>\n",
       "    <tr>\n",
       "      <th>2</th>\n",
       "      <td>2020-01-08 08:46:38</td>\n",
       "      <td>4430831</td>\n",
       "      <td>〈台股盤前〉美伊衝突升溫 量縮止跌成關鍵 惟短期難逃震盪格局</td>\n",
       "      <td>美伊衝突升溫，美股四大指數周二僅費半收紅，道瓊更跌逾 110 點，台股昨日已帶量修正，並填補...</td>\n",
       "      <td>美伊衝突升溫，美股四大指數周二僅費半收紅，道瓊更跌逾 110 點，台股昨 (7) 日已帶量修...</td>\n",
       "      <td>[{'code': '2330', 'name': '台積電', 'symbol': 'TW...</td>\n",
       "      <td>https://news.cnyes.com/news/id/4430831?exp=a</td>\n",
       "    </tr>\n",
       "    <tr>\n",
       "      <th>3</th>\n",
       "      <td>2020-01-08 08:48:18</td>\n",
       "      <td>4430834</td>\n",
       "      <td>伊朗空襲美軍基地添亂 提防周選結算震盪擴大</td>\n",
       "      <td>外資昨日再賣超台股 98.2 億元，連 2 日已賣超逾 195 億元，儘管官股行庫出手，但大...</td>\n",
       "      <td>外資昨日再賣超台股 98.2 億元，連 2 日已賣超逾 195 億元，儘管官股行庫出手，但大...</td>\n",
       "      <td>[]</td>\n",
       "      <td>https://news.cnyes.com/news/id/4430834?exp=a</td>\n",
       "    </tr>\n",
       "    <tr>\n",
       "      <th>4</th>\n",
       "      <td>2020-01-08 10:16:20</td>\n",
       "      <td>4430836</td>\n",
       "      <td>泰昇去年營收逼近20億元登峰 今年還有中南半島以外新投資</td>\n",
       "      <td>東協紙尿褲品牌廠泰昇 - KY2019 年全年營收以 19.77 億元創新高，年增 13.3...</td>\n",
       "      <td>東協紙尿褲品牌廠泰昇 - KY (8480-TW) 2019 年全年營收 19.77 億元創...</td>\n",
       "      <td>[{'code': '8480', 'name': '泰昇-KY', 'symbol': '...</td>\n",
       "      <td>https://news.cnyes.com/news/id/4430836?exp=a</td>\n",
       "    </tr>\n",
       "  </tbody>\n",
       "</table>\n",
       "</div>"
      ],
      "text/plain": [
       "                   時間       編號                                標題  \\\n",
       "0 2020-01-08 00:31:02  4430804  〈聯發科天璣800〉CES展正式亮相 攻中階市場 有助上半年營運   \n",
       "1 2020-01-08 08:02:11  4430827              盤前財經大事搶先讀2020年01月08日   \n",
       "2 2020-01-08 08:46:38  4430831    〈台股盤前〉美伊衝突升溫 量縮止跌成關鍵 惟短期難逃震盪格局   \n",
       "3 2020-01-08 08:48:18  4430834             伊朗空襲美軍基地添亂 提防周選結算震盪擴大   \n",
       "4 2020-01-08 10:16:20  4430836      泰昇去年營收逼近20億元登峰 今年還有中南半島以外新投資   \n",
       "\n",
       "                                                  簡介  \\\n",
       "0  IC 設計大廠聯發科 (2454-TW) 今 (7) 日在美國消費性電子展 (CES) 推出...   \n",
       "1                                                      \n",
       "2  美伊衝突升溫，美股四大指數周二僅費半收紅，道瓊更跌逾 110 點，台股昨日已帶量修正，並填補...   \n",
       "3  外資昨日再賣超台股 98.2 億元，連 2 日已賣超逾 195 億元，儘管官股行庫出手，但大...   \n",
       "4  東協紙尿褲品牌廠泰昇 - KY2019 年全年營收以 19.77 億元創新高，年增 13.3...   \n",
       "\n",
       "                                                  內容  \\\n",
       "0  IC 設計大廠聯發科 (2454-TW) 7 日在美國消費性電子展 (CES) 推出第 2 ...   \n",
       "1  美國 12 月 ADP 就業報告日本 12 月實質薪資德國 11 月製造業訂單波音股價週二上...   \n",
       "2  美伊衝突升溫，美股四大指數周二僅費半收紅，道瓊更跌逾 110 點，台股昨 (7) 日已帶量修...   \n",
       "3  外資昨日再賣超台股 98.2 億元，連 2 日已賣超逾 195 億元，儘管官股行庫出手，但大...   \n",
       "4  東協紙尿褲品牌廠泰昇 - KY (8480-TW) 2019 年全年營收 19.77 億元創...   \n",
       "\n",
       "                                                影響個股  \\\n",
       "0  [{'code': '2454', 'name': '聯發科', 'symbol': 'TW...   \n",
       "1                                                 []   \n",
       "2  [{'code': '2330', 'name': '台積電', 'symbol': 'TW...   \n",
       "3                                                 []   \n",
       "4  [{'code': '8480', 'name': '泰昇-KY', 'symbol': '...   \n",
       "\n",
       "                                             連結  \n",
       "0  https://news.cnyes.com/news/id/4430804?exp=a  \n",
       "1  https://news.cnyes.com/news/id/4430827?exp=a  \n",
       "2  https://news.cnyes.com/news/id/4430831?exp=a  \n",
       "3  https://news.cnyes.com/news/id/4430834?exp=a  \n",
       "4  https://news.cnyes.com/news/id/4430836?exp=a  "
      ]
     },
     "execution_count": 6,
     "metadata": {},
     "output_type": "execute_result"
    }
   ],
   "source": [
    "total_merge_df=date_range_total_crawler(3)\n",
    "total_merge_df.head()"
   ]
  },
  {
   "cell_type": "markdown",
   "metadata": {},
   "source": [
    "# 將鉅亨網台股新聞資訊匯出成Excel檔"
   ]
  },
  {
   "cell_type": "code",
   "execution_count": 7,
   "metadata": {},
   "outputs": [],
   "source": [
    "total_merge_df.to_excel('鉅亨網台股新聞資訊.xlsx',index=False)"
   ]
  },
  {
   "cell_type": "code",
   "execution_count": null,
   "metadata": {},
   "outputs": [],
   "source": []
  }
 ],
 "metadata": {
  "kernelspec": {
   "display_name": "Python 3",
   "language": "python",
   "name": "python3"
  },
  "language_info": {
   "codemirror_mode": {
    "name": "ipython",
    "version": 3
   },
   "file_extension": ".py",
   "mimetype": "text/x-python",
   "name": "python",
   "nbconvert_exporter": "python",
   "pygments_lexer": "ipython3",
   "version": "3.7.3"
  }
 },
 "nbformat": 4,
 "nbformat_minor": 2
}
