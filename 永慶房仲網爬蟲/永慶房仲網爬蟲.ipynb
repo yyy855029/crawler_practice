{
 "cells": [
  {
   "cell_type": "markdown",
   "metadata": {},
   "source": [
    "# 載入所需套件"
   ]
  },
  {
   "cell_type": "code",
   "execution_count": 1,
   "metadata": {},
   "outputs": [],
   "source": [
    "import requests\n",
    "from bs4 import BeautifulSoup\n",
    "import pandas as pd\n",
    "import os\n",
    "from urllib.request import urlretrieve"
   ]
  },
  {
   "cell_type": "markdown",
   "metadata": {},
   "source": [
    "# 定義爬取永慶房仲網房屋資訊函數"
   ]
  },
  {
   "cell_type": "code",
   "execution_count": 2,
   "metadata": {},
   "outputs": [],
   "source": [
    "def yungching_house_crawler(url):\n",
    "    headers={'User-Agent':'Mozilla/5.0 (Windows NT 10.0; Win64; x64) AppleWebKit/537.36 (KHTML, like Gecko) Chrome/73.0.3683.103 Safari/537.36'}\n",
    "    #添加User-Agent\n",
    "    response=requests.get(url,headers)\n",
    "    soup=BeautifulSoup(response.text,'html.parser')\n",
    "    \n",
    "    houses=soup.select('li.m-list-item.vr')\n",
    "    titles=[e.select('a')[1].text.split('\\u3000')[0] for e in houses]\n",
    "    locations=[e.select('a')[1].text.split('\\u3000')[1] for e in houses]\n",
    "    links=['https://buy.yungching.com.tw'+e.select('a')[0]['href'] for e in houses]\n",
    "    types=[e.select('li')[0].text for e in houses]\n",
    "    years=[e.select('li')[1].text.replace('\\n','').replace('\\r','') for e in houses]\n",
    "    floors=[e.select('li')[2].text.replace('\\n','').replace('\\r','') for e in houses]\n",
    "    lands=[e.select('li')[3].text.strip('土地 ') for e in houses]\n",
    "    livings=[e.select('li')[4].text for e in houses]\n",
    "    buildings=[e.select('li')[5].text.strip('建物 ') for e in houses]\n",
    "    rooms=[e.select('li')[6].text.replace('\\n','').replace('\\r','') for e in houses]\n",
    "    prices=[e.select('div.price')[0].text for e in houses]\n",
    "    imgs=['https:'+e.select('img')[0]['src'] for e in houses]\n",
    "    \n",
    "    df=pd.DataFrame({\n",
    "        '標題':titles,\n",
    "        '地點':locations,\n",
    "        '類型':types,\n",
    "        '年數':years,\n",
    "        '樓層':floors,\n",
    "        '土地':lands,\n",
    "        '主廳':livings,\n",
    "        '建物':buildings,\n",
    "        '房間數':rooms,\n",
    "        '價格':prices,\n",
    "        '網址':links,\n",
    "        '照片':imgs\n",
    "    })        \n",
    "    \n",
    "    return df"
   ]
  },
  {
   "cell_type": "markdown",
   "metadata": {},
   "source": [
    "# 定義爬取多頁永慶房仲網房屋資訊函數"
   ]
  },
  {
   "cell_type": "code",
   "execution_count": 3,
   "metadata": {},
   "outputs": [],
   "source": [
    "def page_function(page):\n",
    "    info=pd.DataFrame()\n",
    "    urls=['https://buy.yungching.com.tw/region?pg={}'.format(i+1) for i in range(page)]\n",
    "    \n",
    "    dfs=[]\n",
    "    for url in urls:\n",
    "        d=yungching_house_crawler(url)\n",
    "        dfs.append(d)\n",
    "    df=pd.concat(dfs,ignore_index=True)\n",
    "    \n",
    "    return df"
   ]
  },
  {
   "cell_type": "markdown",
   "metadata": {},
   "source": [
    "# 抓取指定總頁數永慶房仲網房屋資訊"
   ]
  },
  {
   "cell_type": "code",
   "execution_count": 4,
   "metadata": {},
   "outputs": [
    {
     "data": {
      "text/html": [
       "<div>\n",
       "<style scoped>\n",
       "    .dataframe tbody tr th:only-of-type {\n",
       "        vertical-align: middle;\n",
       "    }\n",
       "\n",
       "    .dataframe tbody tr th {\n",
       "        vertical-align: top;\n",
       "    }\n",
       "\n",
       "    .dataframe thead th {\n",
       "        text-align: right;\n",
       "    }\n",
       "</style>\n",
       "<table border=\"1\" class=\"dataframe\">\n",
       "  <thead>\n",
       "    <tr style=\"text-align: right;\">\n",
       "      <th></th>\n",
       "      <th>標題</th>\n",
       "      <th>地點</th>\n",
       "      <th>類型</th>\n",
       "      <th>年數</th>\n",
       "      <th>樓層</th>\n",
       "      <th>土地</th>\n",
       "      <th>主廳</th>\n",
       "      <th>建物</th>\n",
       "      <th>房間數</th>\n",
       "      <th>價格</th>\n",
       "      <th>網址</th>\n",
       "      <th>照片</th>\n",
       "    </tr>\n",
       "  </thead>\n",
       "  <tbody>\n",
       "    <tr>\n",
       "      <th>0</th>\n",
       "      <td>景勤公園邊間華廈</td>\n",
       "      <td>台北市信義區嘉興街</td>\n",
       "      <td>電梯大樓</td>\n",
       "      <td>42.6年</td>\n",
       "      <td>4 ~ 4 / 7樓</td>\n",
       "      <td>6.38坪</td>\n",
       "      <td>主+陽 22.64坪</td>\n",
       "      <td>27.22坪</td>\n",
       "      <td>2房(室)2廳1衛</td>\n",
       "      <td>1,770 萬</td>\n",
       "      <td>https://buy.yungching.com.tw/house/4216636</td>\n",
       "      <td>https://fps.hfcdn.com/v1/image/?key=NF58Ko5oaC...</td>\n",
       "    </tr>\n",
       "    <tr>\n",
       "      <th>1</th>\n",
       "      <td>芝山捷運方正美寓</td>\n",
       "      <td>台北市士林區雨聲街</td>\n",
       "      <td>公寓</td>\n",
       "      <td>41.4年</td>\n",
       "      <td>4 ~ 4 / 4樓</td>\n",
       "      <td>9.15坪</td>\n",
       "      <td>主+陽 28.87坪</td>\n",
       "      <td>28.87坪</td>\n",
       "      <td>3房(室)2廳2衛</td>\n",
       "      <td>1,580 萬</td>\n",
       "      <td>https://buy.yungching.com.tw/house/4207578</td>\n",
       "      <td>https://fps.hfcdn.com/v1/image/?key=NF58Ko5oaC...</td>\n",
       "    </tr>\n",
       "    <tr>\n",
       "      <th>2</th>\n",
       "      <td>安縵莊園高樓景觀</td>\n",
       "      <td>台北市內湖區內湖路三段</td>\n",
       "      <td>電梯大樓</td>\n",
       "      <td>2.4年</td>\n",
       "      <td>13 ~ 13 / 19樓</td>\n",
       "      <td>10.88坪</td>\n",
       "      <td>主+陽 40.82坪</td>\n",
       "      <td>86.92坪</td>\n",
       "      <td>3房(室)2廳2衛</td>\n",
       "      <td>6,489 萬</td>\n",
       "      <td>https://buy.yungching.com.tw/house/4079039</td>\n",
       "      <td>https://fps.hfcdn.com/v1/image/?key=NF58Ko5oaC...</td>\n",
       "    </tr>\n",
       "    <tr>\n",
       "      <th>3</th>\n",
       "      <td>永建靜巷溫馨美居</td>\n",
       "      <td>台北市文山區和興路</td>\n",
       "      <td>公寓</td>\n",
       "      <td>41.9年</td>\n",
       "      <td>3 ~ 3 / 4樓</td>\n",
       "      <td>9.68坪</td>\n",
       "      <td>主+陽 28.38坪</td>\n",
       "      <td>28.38坪</td>\n",
       "      <td>2房(室)2廳1衛</td>\n",
       "      <td>1,298 萬</td>\n",
       "      <td>https://buy.yungching.com.tw/house/3932555</td>\n",
       "      <td>https://fps.hfcdn.com/v1/image/?key=NF58Ko5oaC...</td>\n",
       "    </tr>\n",
       "    <tr>\n",
       "      <th>4</th>\n",
       "      <td>薇閣捷運優質社區</td>\n",
       "      <td>台北市北投區翠宜路</td>\n",
       "      <td>電梯大樓</td>\n",
       "      <td>25.0年</td>\n",
       "      <td>4 ~ 4 / 7樓</td>\n",
       "      <td>26.85坪</td>\n",
       "      <td>主+陽 36.07坪</td>\n",
       "      <td>54.63坪</td>\n",
       "      <td>3房(室)2廳2衛</td>\n",
       "      <td>1,750 萬</td>\n",
       "      <td>https://buy.yungching.com.tw/house/4032993</td>\n",
       "      <td>https://fps.hfcdn.com/v1/image/?key=NF58Ko5oaC...</td>\n",
       "    </tr>\n",
       "  </tbody>\n",
       "</table>\n",
       "</div>"
      ],
      "text/plain": [
       "         標題           地點    類型                 年數                         樓層  \\\n",
       "0  景勤公園邊間華廈    台北市信義區嘉興街  電梯大樓  42.6年                 4 ~ 4 / 7樓               \n",
       "1  芝山捷運方正美寓    台北市士林區雨聲街    公寓  41.4年                 4 ~ 4 / 4樓               \n",
       "2  安縵莊園高樓景觀  台北市內湖區內湖路三段  電梯大樓   2.4年              13 ~ 13 / 19樓               \n",
       "3  永建靜巷溫馨美居    台北市文山區和興路    公寓  41.9年                 3 ~ 3 / 4樓               \n",
       "4  薇閣捷運優質社區    台北市北投區翠宜路  電梯大樓  25.0年                 4 ~ 4 / 7樓               \n",
       "\n",
       "       土地          主廳      建物                    房間數       價格  \\\n",
       "0   6.38坪  主+陽 22.64坪  27.22坪  2房(室)2廳1衛              1,770 萬   \n",
       "1   9.15坪  主+陽 28.87坪  28.87坪  3房(室)2廳2衛              1,580 萬   \n",
       "2  10.88坪  主+陽 40.82坪  86.92坪  3房(室)2廳2衛              6,489 萬   \n",
       "3   9.68坪  主+陽 28.38坪  28.38坪  2房(室)2廳1衛              1,298 萬   \n",
       "4  26.85坪  主+陽 36.07坪  54.63坪  3房(室)2廳2衛              1,750 萬   \n",
       "\n",
       "                                           網址  \\\n",
       "0  https://buy.yungching.com.tw/house/4216636   \n",
       "1  https://buy.yungching.com.tw/house/4207578   \n",
       "2  https://buy.yungching.com.tw/house/4079039   \n",
       "3  https://buy.yungching.com.tw/house/3932555   \n",
       "4  https://buy.yungching.com.tw/house/4032993   \n",
       "\n",
       "                                                  照片  \n",
       "0  https://fps.hfcdn.com/v1/image/?key=NF58Ko5oaC...  \n",
       "1  https://fps.hfcdn.com/v1/image/?key=NF58Ko5oaC...  \n",
       "2  https://fps.hfcdn.com/v1/image/?key=NF58Ko5oaC...  \n",
       "3  https://fps.hfcdn.com/v1/image/?key=NF58Ko5oaC...  \n",
       "4  https://fps.hfcdn.com/v1/image/?key=NF58Ko5oaC...  "
      ]
     },
     "execution_count": 4,
     "metadata": {},
     "output_type": "execute_result"
    }
   ],
   "source": [
    "df=page_function(5)\n",
    "df.head()"
   ]
  },
  {
   "cell_type": "markdown",
   "metadata": {},
   "source": [
    "# 抓取永慶房仲網房屋資訊封面照"
   ]
  },
  {
   "cell_type": "code",
   "execution_count": 5,
   "metadata": {},
   "outputs": [
    {
     "name": "stdout",
     "output_type": "stream",
     "text": [
      "景勤公園邊間華廈\n",
      "芝山捷運方正美寓\n",
      "安縵莊園高樓景觀\n",
      "永建靜巷溫馨美居\n",
      "薇閣捷運優質社區\n",
      "明亮方正三房美寓\n",
      "旺族大戶典雅豪邸\n",
      "捷運雙拼電梯三房\n",
      "河堤電梯平地別墅\n",
      "天母國中首購首選\n"
     ]
    }
   ],
   "source": [
    "titles=df['標題'].values.tolist()\n",
    "imgs=df['照片'].values.tolist()\n",
    "\n",
    "directory='永慶房仲網房屋照片'\n",
    "if not os.path.isdir(directory):\n",
    "    os.makedirs(directory)\n",
    "\n",
    "#執行方便,以前10筆資料為例\n",
    "for title,img in zip(titles[:10],imgs[:10]):    \n",
    "    print(title)\n",
    "    urlretrieve(img,directory+'/{}.jpg'.format(title))"
   ]
  },
  {
   "cell_type": "code",
   "execution_count": null,
   "metadata": {},
   "outputs": [],
   "source": []
  }
 ],
 "metadata": {
  "kernelspec": {
   "display_name": "Python 3",
   "language": "python",
   "name": "python3"
  },
  "language_info": {
   "codemirror_mode": {
    "name": "ipython",
    "version": 3
   },
   "file_extension": ".py",
   "mimetype": "text/x-python",
   "name": "python",
   "nbconvert_exporter": "python",
   "pygments_lexer": "ipython3",
   "version": "3.7.3"
  }
 },
 "nbformat": 4,
 "nbformat_minor": 2
}
