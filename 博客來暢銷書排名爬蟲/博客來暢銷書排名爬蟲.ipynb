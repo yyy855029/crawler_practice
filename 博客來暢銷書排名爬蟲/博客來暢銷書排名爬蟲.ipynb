{
 "cells": [
  {
   "cell_type": "markdown",
   "metadata": {},
   "source": [
    "# 載入所需套件"
   ]
  },
  {
   "cell_type": "code",
   "execution_count": 1,
   "metadata": {},
   "outputs": [],
   "source": [
    "import requests\n",
    "from bs4 import BeautifulSoup\n",
    "import pandas as pd\n",
    "import numpy as np\n",
    "import os\n",
    "from urllib.request import urlretrieve"
   ]
  },
  {
   "cell_type": "markdown",
   "metadata": {},
   "source": [
    "# 定義爬取博客來前100名暢銷書資訊函數"
   ]
  },
  {
   "cell_type": "code",
   "execution_count": 2,
   "metadata": {},
   "outputs": [],
   "source": [
    "def books_crawler(url):\n",
    "    response=requests.get(url)\n",
    "    soup=BeautifulSoup(response.text,'html.parser')\n",
    "\n",
    "    items=soup.select('li.item')\n",
    "    numbers=[e.select('strong')[0].text for e in items]\n",
    "    links=[e.select('a')[0]['href'] for e in items]\n",
    "    titles=[e.select('a')[1].text for e in items]\n",
    "    authors=[e.select('a')[2].text for e in items]\n",
    "    imgs=['https:'+e.select('img')[0]['src'] for e in items]\n",
    "    #調整圖片尺寸大小(500*500)\n",
    "    imgs=[e.split('&w')[0]+'&w=500&h=500' for e in imgs]\n",
    "    #折扣+價格\n",
    "    disprices=[e.select('li')[1].text.strip('優惠價：') for e in items]\n",
    "    #將折扣+價格分開\n",
    "    discounts,prices=[],[]\n",
    "\n",
    "    for e in disprices:\n",
    "        if '折' in e:\n",
    "            discounts.append('{}折'.format(e.split('折')[0]))\n",
    "            prices.append(e.split('折')[1])\n",
    "        else:\n",
    "            discounts.append(np.nan)\n",
    "            prices.append(e)\n",
    "\n",
    "    df=pd.DataFrame({\n",
    "        '排名':numbers,\n",
    "        '書名':titles,\n",
    "        '作者':authors,\n",
    "        '折扣':discounts,\n",
    "        '價格':prices,\n",
    "        '網址':links,\n",
    "        '圖片':imgs\n",
    "    })\n",
    "    \n",
    "    return df"
   ]
  },
  {
   "cell_type": "markdown",
   "metadata": {},
   "source": [
    "# 抓取博客來暢銷書排名資訊"
   ]
  },
  {
   "cell_type": "code",
   "execution_count": 3,
   "metadata": {},
   "outputs": [
    {
     "data": {
      "text/html": [
       "<div>\n",
       "<style scoped>\n",
       "    .dataframe tbody tr th:only-of-type {\n",
       "        vertical-align: middle;\n",
       "    }\n",
       "\n",
       "    .dataframe tbody tr th {\n",
       "        vertical-align: top;\n",
       "    }\n",
       "\n",
       "    .dataframe thead th {\n",
       "        text-align: right;\n",
       "    }\n",
       "</style>\n",
       "<table border=\"1\" class=\"dataframe\">\n",
       "  <thead>\n",
       "    <tr style=\"text-align: right;\">\n",
       "      <th></th>\n",
       "      <th>排名</th>\n",
       "      <th>書名</th>\n",
       "      <th>作者</th>\n",
       "      <th>折扣</th>\n",
       "      <th>價格</th>\n",
       "      <th>網址</th>\n",
       "      <th>圖片</th>\n",
       "    </tr>\n",
       "  </thead>\n",
       "  <tbody>\n",
       "    <tr>\n",
       "      <th>0</th>\n",
       "      <td>1</td>\n",
       "      <td>原子習慣：細微改變帶來巨大成就的實證法則</td>\n",
       "      <td>詹姆斯‧克利爾</td>\n",
       "      <td>79折</td>\n",
       "      <td>261元</td>\n",
       "      <td>https://www.books.com.tw/products/0010822522?l...</td>\n",
       "      <td>https://im1.book.com.tw/image/getImage?i=https...</td>\n",
       "    </tr>\n",
       "    <tr>\n",
       "      <th>1</th>\n",
       "      <td>2</td>\n",
       "      <td>我用1檔ETF存自己的18%</td>\n",
       "      <td>陳重銘</td>\n",
       "      <td>79折</td>\n",
       "      <td>284元</td>\n",
       "      <td>https://www.books.com.tw/products/0010824151?l...</td>\n",
       "      <td>https://im2.book.com.tw/image/getImage?i=https...</td>\n",
       "    </tr>\n",
       "    <tr>\n",
       "      <th>2</th>\n",
       "      <td>3</td>\n",
       "      <td>大會計師教你從財報數字看懂經營本質</td>\n",
       "      <td>張明輝</td>\n",
       "      <td>79折</td>\n",
       "      <td>300元</td>\n",
       "      <td>https://www.books.com.tw/products/0010825332?l...</td>\n",
       "      <td>https://im1.book.com.tw/image/getImage?i=https...</td>\n",
       "    </tr>\n",
       "    <tr>\n",
       "      <th>3</th>\n",
       "      <td>4</td>\n",
       "      <td>一人公司：為什麼小而美是未來企業發展的趨勢</td>\n",
       "      <td>保羅．賈維斯</td>\n",
       "      <td>79折</td>\n",
       "      <td>300元</td>\n",
       "      <td>https://www.books.com.tw/products/0010825335?l...</td>\n",
       "      <td>https://im2.book.com.tw/image/getImage?i=https...</td>\n",
       "    </tr>\n",
       "    <tr>\n",
       "      <th>4</th>\n",
       "      <td>5</td>\n",
       "      <td>OKR：做最重要的事</td>\n",
       "      <td>約翰‧杜爾</td>\n",
       "      <td>79折</td>\n",
       "      <td>356元</td>\n",
       "      <td>https://www.books.com.tw/products/0010813170?l...</td>\n",
       "      <td>https://im1.book.com.tw/image/getImage?i=https...</td>\n",
       "    </tr>\n",
       "  </tbody>\n",
       "</table>\n",
       "</div>"
      ],
      "text/plain": [
       "  排名                     書名       作者   折扣    價格  \\\n",
       "0  1   原子習慣：細微改變帶來巨大成就的實證法則  詹姆斯‧克利爾  79折  261元   \n",
       "1  2         我用1檔ETF存自己的18%      陳重銘  79折  284元   \n",
       "2  3      大會計師教你從財報數字看懂經營本質      張明輝  79折  300元   \n",
       "3  4  一人公司：為什麼小而美是未來企業發展的趨勢   保羅．賈維斯  79折  300元   \n",
       "4  5             OKR：做最重要的事    約翰‧杜爾  79折  356元   \n",
       "\n",
       "                                                  網址  \\\n",
       "0  https://www.books.com.tw/products/0010822522?l...   \n",
       "1  https://www.books.com.tw/products/0010824151?l...   \n",
       "2  https://www.books.com.tw/products/0010825332?l...   \n",
       "3  https://www.books.com.tw/products/0010825335?l...   \n",
       "4  https://www.books.com.tw/products/0010813170?l...   \n",
       "\n",
       "                                                  圖片  \n",
       "0  https://im1.book.com.tw/image/getImage?i=https...  \n",
       "1  https://im2.book.com.tw/image/getImage?i=https...  \n",
       "2  https://im1.book.com.tw/image/getImage?i=https...  \n",
       "3  https://im2.book.com.tw/image/getImage?i=https...  \n",
       "4  https://im1.book.com.tw/image/getImage?i=https...  "
      ]
     },
     "execution_count": 3,
     "metadata": {},
     "output_type": "execute_result"
    }
   ],
   "source": [
    "df=books_crawler('https://www.books.com.tw/web/sys_saletopb/books/02?attribute=30&loc=act_menu_th_46_002')\n",
    "df.head()"
   ]
  },
  {
   "cell_type": "markdown",
   "metadata": {},
   "source": [
    "# 抓取博客來暢銷書排名封面照"
   ]
  },
  {
   "cell_type": "code",
   "execution_count": 4,
   "metadata": {},
   "outputs": [
    {
     "name": "stdout",
     "output_type": "stream",
     "text": [
      "原子習慣：細微改變帶來巨大成就的實證法則\n",
      "我用1檔ETF存自己的18%\n",
      "大會計師教你從財報數字看懂經營本質\n",
      "一人公司：為什麼小而美是未來企業發展的趨勢\n",
      "OKR：做最重要的事\n",
      "故事課1：3分鐘說18萬個故事，打造影響力\n",
      "富爸爸，窮爸爸（20週年紀念版）\n",
      "看穿假象、理智發聲，從問對問題開始：【全球長銷40年】美國大學邏輯思辨聖經\n",
      "有錢人想的和你不一樣\n",
      "走舊路，到不了新地方—徐重仁的經營筆記：關於創事業、做生意和學態度\n"
     ]
    }
   ],
   "source": [
    "titles=df['書名'].values.tolist()\n",
    "imgs=df['圖片'].values.tolist()\n",
    "\n",
    "directory='博客來暢銷書封面'\n",
    "\n",
    "if not os.path.isdir(directory):\n",
    "    os.makedirs(directory)\n",
    "\n",
    "#執行方便,以前10名封面照為例\n",
    "for title,img in zip(titles[:10],imgs[:10]):\n",
    "    urlretrieve(img,directory+'/{}.jpg'.format(title))\n",
    "    print(title)"
   ]
  },
  {
   "cell_type": "code",
   "execution_count": null,
   "metadata": {},
   "outputs": [],
   "source": []
  }
 ],
 "metadata": {
  "kernelspec": {
   "display_name": "Python 3",
   "language": "python",
   "name": "python3"
  },
  "language_info": {
   "codemirror_mode": {
    "name": "ipython",
    "version": 3
   },
   "file_extension": ".py",
   "mimetype": "text/x-python",
   "name": "python",
   "nbconvert_exporter": "python",
   "pygments_lexer": "ipython3",
   "version": "3.7.3"
  }
 },
 "nbformat": 4,
 "nbformat_minor": 2
}
